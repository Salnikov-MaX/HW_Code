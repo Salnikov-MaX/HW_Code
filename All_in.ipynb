{
 "cells": [
  {
   "cell_type": "code",
   "execution_count": null,
   "outputs": [],
   "source": [
    "!pip install dtw"
   ],
   "metadata": {
    "collapsed": false,
    "pycharm": {
     "name": "#%%\n"
    }
   }
  },
  {
   "cell_type": "code",
   "execution_count": 1,
   "outputs": [],
   "source": [
    "import lasio\n",
    "import pandas as pd\n",
    "import os\n",
    "import seaborn as sns\n",
    "%matplotlib inline\n",
    "import matplotlib.pyplot as plt\n",
    "import numpy as np\n",
    "from scipy import interpolate\n",
    "from dtw import dtw\n",
    "import itertools\n",
    "import operator\n",
    "from operator import itemgetter"
   ],
   "metadata": {
    "collapsed": false,
    "pycharm": {
     "name": "#%%\n",
     "is_executing": false
    }
   }
  },
  {
   "cell_type": "code",
   "execution_count": 2,
   "outputs": [],
   "source": [
    "class my_dictionary(dict):\n",
    "    def __init__(self):\n",
    "        self = dict()\n",
    "    def add(self, key, value):\n",
    "        self[key] = value\n",
    "        "
   ],
   "metadata": {
    "collapsed": false,
    "pycharm": {
     "name": "#%%\n",
     "is_executing": false
    }
   }
  },
  {
   "cell_type": "code",
   "execution_count": 3,
   "outputs": [],
   "source": [
    "targ_form = pd.read_csv('C:/Users/SMA_9/Desktop/HW/FieldWTPS1.csv',sep=';')\n",
    "targ_form = targ_form.groupby(['Well','Surface']).aggregate({'MD':'mean'})\n",
    "files = []\n",
    "length = targ_form['MD'].size\n",
    "for i in range(length):\n",
    "    files.append( targ_form['MD'].index[i][0])\n",
    "files = set(files)"
   ],
   "metadata": {
    "collapsed": false,
    "pycharm": {
     "name": "#%%\n",
     "is_executing": false
    }
   }
  },
  {
   "cell_type": "code",
   "execution_count": null,
   "outputs": [],
   "source": [
    "for i_file in files:\n",
    "    try:\n",
    "        cor = lasio.read('C://Users/SMA_9/Desktop/HW/path/' + i_file +'.las')\n",
    "        SP = pd.DataFrame({'DEPT':cor['DEPT'], 'SP':cor['SP']})\n",
    "        SP = SP.fillna(0)  \n",
    "        SP = SP.query(\"SP != 0 & SP != 9999 & SP != (-9999)\")\n",
    "        if targ_form.loc[i_file.split('.')[0]].nunique()[0] ==2:\n",
    "            top=targ_form.loc[(i_file.split('.')[0],'Top_Georg')][0]\n",
    "            bottom = targ_form.loc[(i_file.split('.')[0],'U1-3_bot')][0]\n",
    "        else:\n",
    "            top=targ_form.loc[(i_file.split('.')[0],'Top_Georg')][0]\n",
    "            bottom = top+100\n",
    "        SP = SP.query(\"DEPT >= @top  & DEPT <= @bottom \")\n",
    "        if SP.size>0:\n",
    "            typic = SP.rename(columns={'DEPT':'Y','SP':'X'})\n",
    "            typic.Y = (typic.Y-typic.Y.min())*100/(typic.Y.max()-typic.Y.min())\n",
    "            typic.X = (typic.X-typic.X.min())*1/(typic.X.max()-typic.X.min())\n",
    "            f = interpolate.interp1d(typic.Y.values, typic.X.values)\n",
    "            ynew = np.arange(0,100,1)\n",
    "            xnew = f(ynew)\n",
    "            corotazh_total = pd.DataFrame({'Y':ynew[::-1],'X':xnew})\n",
    "            corotazh_total.to_csv('C://Users/SMA_9/Desktop/HW/OutData2/'+i_file.split('.')[0]+'.csv')\n",
    "    except Exception:  \n",
    "        pass\n",
    "    "
   ],
   "metadata": {
    "collapsed": false,
    "pycharm": {
     "name": "#%%\n"
    }
   }
  },
  {
   "cell_type": "code",
   "execution_count": null,
   "outputs": [],
   "source": [
    "files = os.listdir(path =\"C://Users/SMA_9/Desktop/HW/typical/CSV\")\n",
    "for i in files:\n",
    "    typic = pd.read_csv('C://Users/SMA_9/Desktop/HW/typical/CSV/' + i, sep=';')\n",
    "    typic.Y = (typic.Y-typic.Y.min())*55/(typic.Y.max()-typic.Y.min())\n",
    "    typic.X = (typic.X-typic.X.min())*1/(typic.X.max()-typic.X.min())\n",
    "    f = interpolate.interp1d(typic.Y.values, typic.X.values)\n",
    "    xnew = f(np.arange(0,55,1))\n",
    "    corotazh_total = pd.DataFrame({'Y':np.arange(0,55,1),'X':xnew})\n",
    "    corotazh_total.to_csv('C://Users/SMA_9/Desktop/HW/typical/reb/' + i)\n",
    "    "
   ],
   "metadata": {
    "collapsed": false,
    "pycharm": {
     "name": "#%%\n"
    }
   }
  },
  {
   "cell_type": "code",
   "execution_count": null,
   "outputs": [],
   "source": [
    "files = os.listdir(path =\"C://Users/SMA_9/Desktop/HW/OutData2\")\n",
    "data_1 = pd.DataFrame({'well':[],\"typic\":[],\"value\":[]})\n",
    "g = ['1','2','3','4','5','6','7','8','9','10']\n",
    "for u in files:\n",
    "    my_dict = my_dictionary()\n",
    "    SP = pd.read_csv('C://Users/SMA_9/Desktop/HW/OutData2/'+u)\n",
    "    x = SP.X\n",
    "    for i in g:\n",
    "        SP1 = pd.read_csv('C://Users/SMA_9/Desktop/HW/typical/reb/'+i+'.csv',index_col=0 )\n",
    "        y = SP1.X\n",
    "        manhattan_distance = lambda x, y: np.abs(x - y)\n",
    "        d, cost_matrix, acc_cost_matrix, path = dtw(x, y, dist = manhattan_distance)\n",
    "        my_dict.add(i,d)\n",
    "    for key, value in itertools.islice(sorted( my_dict.items(), key =  operator.itemgetter(1)),1):\n",
    "        data_1 = pd.concat([data_1,pd.DataFrame({'well':[u],\"typic\":[key],\"value\":[value]})])\n",
    "        \n",
    "data_1.to_csv('C:/Users/SMA_9/Desktop/HW/mark.csv')\n",
    "data_1.typic.value_counts()"
   ],
   "metadata": {
    "collapsed": false,
    "pycharm": {
     "name": "#%%\n"
    }
   }
  },
  {
   "cell_type": "code",
   "execution_count": 22,
   "outputs": [],
   "source": [
    "data_1 = pd.DataFrame({\"typic\":[],\"value\":[]})\n",
    "my_dict = my_dictionary()\n",
    "SP = pd.read_csv('C://Users/SMA_9/Desktop/HW/OutData2/200R.csv')\n",
    "x = SP.X\n",
    "g = ['1','2','3','4','5','6','7','8','9','10']\n",
    "for i in g:\n",
    "    SP1 = pd.read_csv('C://Users/SMA_9/Desktop/HW/typical/reb/'+i+'.csv',index_col=0 )\n",
    "    y = SP1.X\n",
    "    manhattan_distance = lambda x, y: np.abs(x - y)\n",
    "    d, cost_matrix, acc_cost_matrix, path = dtw(x, y, dist = manhattan_distance)\n",
    "    my_dict.add(i,d)\n",
    "for key, value in itertools.islice(sorted( my_dict.items(), key =  operator.itemgetter(1)),10):\n",
    "    data_1 = pd.concat([data_1,pd.DataFrame({\"typic\":[key],\"value\":[value]})])"
   ],
   "metadata": {
    "collapsed": false,
    "pycharm": {
     "name": "#%%\n",
     "is_executing": false
    }
   }
  },
  {
   "cell_type": "code",
   "execution_count": 23,
   "outputs": [
    {
     "data": {
      "text/plain": "  typic     value\n0     6  3.256170\n0     8  3.564727\n0     9  3.604692\n0     4  3.956185\n0     5  4.170605\n0     7  4.554058\n0     1  4.799513\n0    10  6.086932\n0     2  6.463387\n0     3  7.187121",
      "text/html": "<div>\n<style scoped>\n    .dataframe tbody tr th:only-of-type {\n        vertical-align: middle;\n    }\n\n    .dataframe tbody tr th {\n        vertical-align: top;\n    }\n\n    .dataframe thead th {\n        text-align: right;\n    }\n</style>\n<table border=\"1\" class=\"dataframe\">\n  <thead>\n    <tr style=\"text-align: right;\">\n      <th></th>\n      <th>typic</th>\n      <th>value</th>\n    </tr>\n  </thead>\n  <tbody>\n    <tr>\n      <th>0</th>\n      <td>6</td>\n      <td>3.256170</td>\n    </tr>\n    <tr>\n      <th>0</th>\n      <td>8</td>\n      <td>3.564727</td>\n    </tr>\n    <tr>\n      <th>0</th>\n      <td>9</td>\n      <td>3.604692</td>\n    </tr>\n    <tr>\n      <th>0</th>\n      <td>4</td>\n      <td>3.956185</td>\n    </tr>\n    <tr>\n      <th>0</th>\n      <td>5</td>\n      <td>4.170605</td>\n    </tr>\n    <tr>\n      <th>0</th>\n      <td>7</td>\n      <td>4.554058</td>\n    </tr>\n    <tr>\n      <th>0</th>\n      <td>1</td>\n      <td>4.799513</td>\n    </tr>\n    <tr>\n      <th>0</th>\n      <td>10</td>\n      <td>6.086932</td>\n    </tr>\n    <tr>\n      <th>0</th>\n      <td>2</td>\n      <td>6.463387</td>\n    </tr>\n    <tr>\n      <th>0</th>\n      <td>3</td>\n      <td>7.187121</td>\n    </tr>\n  </tbody>\n</table>\n</div>"
     },
     "metadata": {},
     "output_type": "execute_result",
     "execution_count": 23
    }
   ],
   "source": [
    "data_1\n"
   ],
   "metadata": {
    "collapsed": false,
    "pycharm": {
     "name": "#%%\n",
     "is_executing": false
    }
   }
  },
  {
   "cell_type": "code",
   "execution_count": 25,
   "outputs": [
    {
     "data": {
      "text/plain": "<Figure size 432x288 with 1 Axes>",
      "image/png": "[encoded data removed]"
     },
     "metadata": {
      "needs_background": "light"
     },
     "output_type": "display_data"
    }
   ],
   "source": [
    "SP = pd.read_csv('C://Users/SMA_9/Desktop/HW/OutData/200R.csv',index_col=0 )\n",
    "SP1 = pd.read_csv('C://Users/SMA_9/Desktop/HW/typical/rebuilt/3.csv' )\n",
    "x = SP.X\n",
    "y = SP.Y\n",
    "X = SP1.X\n",
    "Y = SP1.Y\n",
    "plt.plot(x, y, '-', X, Y, '-')\n",
    "plt.show()\n"
   ],
   "metadata": {
    "collapsed": false,
    "pycharm": {
     "name": "#%%\n",
     "is_executing": false
    }
   }
  },
  {
   "cell_type": "code",
   "execution_count": null,
   "outputs": [],
   "source": [],
   "metadata": {
    "collapsed": false,
    "pycharm": {
     "name": "#%%\n"
    }
   }
  },
  {
   "cell_type": "code",
   "execution_count": null,
   "outputs": [],
   "source": [],
   "metadata": {
    "collapsed": false,
    "pycharm": {
     "name": "#%%\n"
    }
   }
  },
  {
   "cell_type": "code",
   "execution_count": null,
   "outputs": [],
   "source": [],
   "metadata": {
    "collapsed": false,
    "pycharm": {
     "name": "#%%\n"
    }
   }
  },
  {
   "cell_type": "code",
   "execution_count": null,
   "outputs": [],
   "source": [],
   "metadata": {
    "collapsed": false,
    "pycharm": {
     "name": "#%%\n"
    }
   }
  }
 ],
 "metadata": {
  "kernelspec": {
   "display_name": "Python 3",
   "language": "python",
   "name": "python3"
  },
  "language_info": {
   "codemirror_mode": {
    "name": "ipython",
    "version": 2
   },
   "file_extension": ".py",
   "mimetype": "text/x-python",
   "name": "python",
   "nbconvert_exporter": "python",
   "pygments_lexer": "ipython2",
   "version": "2.7.6"
  },
  "pycharm": {
   "stem_cell": {
    "cell_type": "raw",
    "source": [],
    "metadata": {
     "collapsed": false
    }
   }
  }
 },
 "nbformat": 4,
 "nbformat_minor": 0
}