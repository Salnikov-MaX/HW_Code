{
 "cells": [
  {
   "cell_type": "code",
   "execution_count": 2,
   "outputs": [],
   "source": [
    "import lasio\n",
    "import pandas as pd\n",
    "import os\n",
    "import seaborn as sns\n",
    "%matplotlib inline\n",
    "import matplotlib.pyplot as plt\n",
    "import numpy as np\n",
    "from scipy import interpolate\n",
    "from sklearn.neighbors import RadiusNeighborsClassifier\n",
    "from scipy.spatial import distance\n",
    "\n",
    "        "
   ],
   "metadata": {
    "collapsed": false,
    "pycharm": {
     "name": "#%%\n",
     "is_executing": false
    }
   }
  },
  {
   "cell_type": "code",
   "execution_count": 10,
   "outputs": [],
   "source": [
    "# Создание списка с названиями скважин\n",
    "\n",
    "targ_form = pd.read_csv('FieldWTPS1.csv',sep=';')\n",
    "targ_form = targ_form.groupby(['Well','Surface']).aggregate({'MD':'mean'})\n",
    "files = []\n",
    "length = targ_form['MD'].size\n",
    "for i in range(length):\n",
    "    files.append( targ_form['MD'].index[i][0])\n",
    "files = set(files)"
   ],
   "metadata": {
    "collapsed": false,
    "pycharm": {
     "name": "#%%\n",
     "is_executing": false
    }
   }
  },
  {
   "cell_type": "code",
   "execution_count": 50,
   "outputs": [
    {
     "name": "stderr",
     "text": [
      "Header section Parameter regexp=~P was not found.\n",
      "Header section Parameter regexp=~P was not found.\n",
      "Header section Parameter regexp=~P was not found.\n",
      "Header section Parameter regexp=~P was not found.\n",
      "Header section Parameter regexp=~P was not found.\n",
      "Header section Parameter regexp=~P was not found.\n",
      "Header section Parameter regexp=~P was not found.\n",
      "Header section Parameter regexp=~P was not found.\n",
      "Header section Parameter regexp=~P was not found.\n",
      "Header section Parameter regexp=~P was not found.\n",
      "Header section Parameter regexp=~P was not found.\n",
      "Header section Parameter regexp=~P was not found.\n",
      "Header section Parameter regexp=~P was not found.\n",
      "Header section Parameter regexp=~P was not found.\n",
      "Header section Parameter regexp=~P was not found.\n",
      "Header section Parameter regexp=~P was not found.\n",
      "Header section Parameter regexp=~P was not found.\n",
      "Header section Parameter regexp=~P was not found.\n",
      "Header section Parameter regexp=~P was not found.\n",
      "Header section Parameter regexp=~P was not found.\n",
      "Header section Parameter regexp=~P was not found.\n",
      "Header section Parameter regexp=~P was not found.\n",
      "Header section Parameter regexp=~P was not found.\n",
      "Header section Parameter regexp=~P was not found.\n",
      "Header section Parameter regexp=~P was not found.\n",
      "Header section Parameter regexp=~P was not found.\n",
      "Header section Parameter regexp=~P was not found.\n",
      "Header section Parameter regexp=~P was not found.\n",
      "Header section Parameter regexp=~P was not found.\n",
      "Header section Parameter regexp=~P was not found.\n",
      "Header section Parameter regexp=~P was not found.\n",
      "Header section Parameter regexp=~P was not found.\n",
      "Header section Parameter regexp=~P was not found.\n",
      "Header section Parameter regexp=~P was not found.\n",
      "Header section Parameter regexp=~P was not found.\n",
      "Header section Parameter regexp=~P was not found.\n",
      "Header section Parameter regexp=~P was not found.\n",
      "Header section Parameter regexp=~P was not found.\n",
      "Header section Parameter regexp=~P was not found.\n",
      "Header section Parameter regexp=~P was not found.\n",
      "Header section Parameter regexp=~P was not found.\n",
      "Header section Parameter regexp=~P was not found.\n",
      "Header section Parameter regexp=~P was not found.\n",
      "Header section Parameter regexp=~P was not found.\n",
      "Header section Parameter regexp=~P was not found.\n",
      "Header section Parameter regexp=~P was not found.\n",
      "Header section Parameter regexp=~P was not found.\n",
      "Header section Parameter regexp=~P was not found.\n",
      "Header section Parameter regexp=~P was not found.\n",
      "Header section Parameter regexp=~P was not found.\n",
      "Header section Parameter regexp=~P was not found.\n",
      "Header section Parameter regexp=~P was not found.\n",
      "Header section Parameter regexp=~P was not found.\n",
      "Header section Parameter regexp=~P was not found.\n",
      "Header section Parameter regexp=~P was not found.\n",
      "Header section Parameter regexp=~P was not found.\n",
      "Header section Parameter regexp=~P was not found.\n",
      "Header section Parameter regexp=~P was not found.\n",
      "Header section Parameter regexp=~P was not found.\n",
      "Header section Parameter regexp=~P was not found.\n",
      "Header section Parameter regexp=~P was not found.\n",
      "Header section Parameter regexp=~P was not found.\n",
      "Header section Parameter regexp=~P was not found.\n",
      "Header section Parameter regexp=~P was not found.\n",
      "Header section Parameter regexp=~P was not found.\n",
      "Header section Parameter regexp=~P was not found.\n",
      "Header section Parameter regexp=~P was not found.\n",
      "Header section Parameter regexp=~P was not found.\n",
      "Header section Parameter regexp=~P was not found.\n",
      "Header section Parameter regexp=~P was not found.\n",
      "Header section Parameter regexp=~P was not found.\n",
      "Header section Parameter regexp=~P was not found.\n",
      "Header section Parameter regexp=~P was not found.\n",
      "Header section Parameter regexp=~P was not found.\n",
      "Header section Parameter regexp=~P was not found.\n",
      "Header section Parameter regexp=~P was not found.\n",
      "Header section Parameter regexp=~P was not found.\n",
      "Header section Parameter regexp=~P was not found.\n",
      "Header section Parameter regexp=~P was not found.\n",
      "Header section Parameter regexp=~P was not found.\n",
      "Header section Parameter regexp=~P was not found.\n",
      "Header section Parameter regexp=~P was not found.\n",
      "Header section Parameter regexp=~P was not found.\n",
      "Header section Parameter regexp=~P was not found.\n",
      "Header section Parameter regexp=~P was not found.\n",
      "Header section Parameter regexp=~P was not found.\n",
      "Header section Parameter regexp=~P was not found.\n",
      "Header section Parameter regexp=~P was not found.\n",
      "Header section Parameter regexp=~P was not found.\n",
      "Header section Parameter regexp=~P was not found.\n",
      "Header section Parameter regexp=~P was not found.\n",
      "Header section Parameter regexp=~P was not found.\n",
      "Header section Parameter regexp=~P was not found.\n",
      "Header section Parameter regexp=~P was not found.\n",
      "Header section Parameter regexp=~P was not found.\n",
      "Header section Parameter regexp=~P was not found.\n",
      "Header section Parameter regexp=~P was not found.\n",
      "Header section Parameter regexp=~P was not found.\n",
      "Header section Parameter regexp=~P was not found.\n",
      "Header section Parameter regexp=~P was not found.\n",
      "Header section Parameter regexp=~P was not found.\n",
      "Header section Parameter regexp=~P was not found.\n",
      "Header section Parameter regexp=~P was not found.\n",
      "Header section Parameter regexp=~P was not found.\n",
      "Header section Parameter regexp=~P was not found.\n",
      "Header section Parameter regexp=~P was not found.\n",
      "Header section Parameter regexp=~P was not found.\n",
      "Header section Parameter regexp=~P was not found.\n",
      "Header section Parameter regexp=~P was not found.\n",
      "Header section Parameter regexp=~P was not found.\n",
      "Header section Parameter regexp=~P was not found.\n",
      "Header section Parameter regexp=~P was not found.\n",
      "Header section Parameter regexp=~P was not found.\n",
      "Header section Parameter regexp=~P was not found.\n",
      "Header section Parameter regexp=~P was not found.\n",
      "Header section Parameter regexp=~P was not found.\n",
      "Header section Parameter regexp=~P was not found.\n",
      "Header section Parameter regexp=~P was not found.\n",
      "Header section Parameter regexp=~P was not found.\n",
      "Header section Parameter regexp=~P was not found.\n",
      "Header section Parameter regexp=~P was not found.\n",
      "Header section Parameter regexp=~P was not found.\n",
      "Header section Parameter regexp=~P was not found.\n",
      "Header section Parameter regexp=~P was not found.\n",
      "Header section Parameter regexp=~P was not found.\n",
      "Header section Parameter regexp=~P was not found.\n",
      "Header section Parameter regexp=~P was not found.\n",
      "Header section Parameter regexp=~P was not found.\n",
      "Header section Parameter regexp=~P was not found.\n",
      "Header section Parameter regexp=~P was not found.\n",
      "Header section Parameter regexp=~P was not found.\n",
      "Header section Parameter regexp=~P was not found.\n",
      "Header section Parameter regexp=~P was not found.\n",
      "Header section Parameter regexp=~P was not found.\n",
      "Header section Parameter regexp=~P was not found.\n",
      "Header section Parameter regexp=~P was not found.\n",
      "Header section Parameter regexp=~P was not found.\n",
      "Header section Parameter regexp=~P was not found.\n",
      "Header section Parameter regexp=~P was not found.\n",
      "Header section Parameter regexp=~P was not found.\n",
      "Header section Parameter regexp=~P was not found.\n",
      "Header section Parameter regexp=~P was not found.\n",
      "Header section Parameter regexp=~P was not found.\n",
      "Header section Parameter regexp=~P was not found.\n",
      "Header section Parameter regexp=~P was not found.\n",
      "Header section Parameter regexp=~P was not found.\n",
      "Header section Parameter regexp=~P was not found.\n",
      "Header section Parameter regexp=~P was not found.\n",
      "Header section Parameter regexp=~P was not found.\n",
      "Header section Parameter regexp=~P was not found.\n",
      "Header section Parameter regexp=~P was not found.\n",
      "Header section Parameter regexp=~P was not found.\n",
      "Header section Parameter regexp=~P was not found.\n"
     ],
     "output_type": "stream"
    }
   ],
   "source": [
    "# Подготовка данных каротажа\n",
    "\n",
    "for i_file in files:\n",
    "    try:\n",
    "        cor = lasio.read('path/' + i_file +'.las')\n",
    "        SP = pd.DataFrame({'DEPT':cor['DEPT'], 'SP':cor['SP']})\n",
    "        SP = SP.fillna(0)  \n",
    "        SP = SP.query(\"SP != 0 & SP != 9999 & SP != (-9999)\")\n",
    "        if targ_form.loc[i_file.split('.')[0]].nunique()[0] ==2:\n",
    "            top=targ_form.loc[(i_file.split('.')[0],'Top_Georg')][0]\n",
    "            bottom = targ_form.loc[(i_file.split('.')[0],'U1-3_bot')][0]\n",
    "        else:\n",
    "            top=targ_form.loc[(i_file.split('.')[0],'Top_Georg')][0]\n",
    "            bottom = top+100\n",
    "        SP = SP.query(\"DEPT >= @top  & DEPT <= @bottom \")\n",
    "        if SP.size>0:\n",
    "            typic = SP.rename(columns={'DEPT':'Y','SP':'X'})\n",
    "            typic.Y = (typic.Y-typic.Y.min())*55/(typic.Y.max()-typic.Y.min())\n",
    "            typic.X = (typic.X-typic.X.min())*1/(typic.X.max()-typic.X.min())\n",
    "            f = interpolate.interp1d(typic.Y.values, typic.X.values)\n",
    "            ynew = np.arange(0,55,1)\n",
    "            xnew = f(ynew)\n",
    "            corotazh_total = pd.DataFrame({'Y':ynew,'X':xnew[::-1]})\n",
    "            corotazh_total.to_csv('OutData2/'+i_file.split('.')[0]+'.csv')\n",
    "    except Exception:  \n",
    "        pass\n",
    "    "
   ],
   "metadata": {
    "collapsed": false,
    "pycharm": {
     "name": "#%%\n",
     "is_executing": false
    }
   }
  },
  {
   "cell_type": "code",
   "execution_count": null,
   "outputs": [],
   "source": [
    "# Подготовка данных типовых кривых\n",
    "\n",
    "files = os.listdir(path =\"typical/CSV\")\n",
    "for i in files:\n",
    "    typic = pd.read_csv('typical/CSV/' + i, sep=';')\n",
    "    typic.Y = (typic.Y-typic.Y.min())*55/(typic.Y.max()-typic.Y.min())\n",
    "    typic.X = (typic.X-typic.X.min())*1/(typic.X.max()-typic.X.min())\n",
    "    f = interpolate.interp1d(typic.Y.values, typic.X.values)\n",
    "    xnew = f(np.arange(0,55,1))\n",
    "    corotazh_total = pd.DataFrame({'Y':np.arange(0,55,1),'X':xnew})\n",
    "    corotazh_total.to_csv('typical/reb/' + i)\n",
    "\n"
   ],
   "metadata": {
    "collapsed": false,
    "pycharm": {
     "name": "#%%\n"
    }
   }
  },
  {
   "cell_type": "code",
   "execution_count": 5,
   "outputs": [
    {
     "data": {
      "text/plain": "    Y         0         1         2         3         4         5         6  \\\n0   1  0.941176  0.933779  0.926381  0.904337  0.852050  0.786988  0.741533   \n1  10  1.000000  0.986591  0.973181  0.949053  0.896752  0.828623  0.343992   \n2   2  1.000000  0.983829  0.974505  0.968469  0.962432  0.956396  0.944745   \n3   3  1.000000  0.988627  0.984806  0.980984  0.973403  0.964620  0.958831   \n4   4  1.000000  0.981869  0.949081  0.937895  0.926949  0.895561  0.858628   \n5   5  1.000000  0.989366  0.978732  0.958952  0.930129  0.895149  0.860953   \n6   6  0.917694  0.903668  0.889643  0.863485  0.847392  0.830410  0.802041   \n7   7  0.784512  0.730112  0.396289  0.236306  0.181170  0.138761  0.095124   \n8   8  0.947464  0.920373  0.903961  0.868142  0.805510  0.420559  0.262986   \n9   9  0.910676  0.892482  0.864424  0.347831  0.175215  0.117641  0.082172   \n\n          7         8  ...        45        46        47        48        49  \\\n0  0.716578  0.696322  ...  0.481283  0.608734  0.690434  0.750446  0.825312   \n1  0.193551  0.067680  ...  0.700465  0.713627  0.738199  0.757493  0.770185   \n2  0.931987  0.918407  ...  0.648074  0.754534  0.824871  0.865617  0.884543   \n3  0.954659  0.950488  ...  0.124730  0.365750  0.605980  0.704853  0.819626   \n4  0.797989  0.726010  ...  0.634088  0.703019  0.762843  0.815214  0.858639   \n5  0.817305  0.770703  ...  0.718077  0.761316  0.803265  0.842663  0.886967   \n6  0.782300  0.748356  ...  0.805010  0.840490  0.861352  0.891731  0.907941   \n7  0.079482  0.063837  ...  0.156136  0.222066  0.331914  0.473891  0.607013   \n8  0.181635  0.136478  ...  0.684683  0.731991  0.779298  0.823719  0.860862   \n9  0.047697  0.029123  ...  0.851329  0.866256  0.880904  0.907570  0.922216   \n\n         50        51        52        53        54  \n0  0.885918  0.909091  0.929717  0.943808  0.957898  \n1  0.782877  0.802715  0.823768  0.835230  0.846693  \n2  0.904411  0.919420  0.931822  0.944223  0.959161  \n3  0.866852  0.883875  0.919682  0.939372  0.957330  \n4  0.894795  0.926071  0.937600  0.950035  0.981285  \n5  0.922969  0.936642  0.948475  0.956317  0.964159  \n6  0.926699  0.946738  0.957400  0.968061  0.982324  \n7  0.690655  0.849231  0.897076  0.962082  0.992764  \n8  0.891594  0.926636  0.946736  0.974976  0.987488  \n9  0.935196  0.952190  0.970975  0.980650  0.990325  \n\n[10 rows x 56 columns]",
      "text/html": "<div>\n<style scoped>\n    .dataframe tbody tr th:only-of-type {\n        vertical-align: middle;\n    }\n\n    .dataframe tbody tr th {\n        vertical-align: top;\n    }\n\n    .dataframe thead th {\n        text-align: right;\n    }\n</style>\n<table border=\"1\" class=\"dataframe\">\n  <thead>\n    <tr style=\"text-align: right;\">\n      <th></th>\n      <th>Y</th>\n      <th>0</th>\n      <th>1</th>\n      <th>2</th>\n      <th>3</th>\n      <th>4</th>\n      <th>5</th>\n      <th>6</th>\n      <th>7</th>\n      <th>8</th>\n      <th>...</th>\n      <th>45</th>\n      <th>46</th>\n      <th>47</th>\n      <th>48</th>\n      <th>49</th>\n      <th>50</th>\n      <th>51</th>\n      <th>52</th>\n      <th>53</th>\n      <th>54</th>\n    </tr>\n  </thead>\n  <tbody>\n    <tr>\n      <th>0</th>\n      <td>1</td>\n      <td>0.941176</td>\n      <td>0.933779</td>\n      <td>0.926381</td>\n      <td>0.904337</td>\n      <td>0.852050</td>\n      <td>0.786988</td>\n      <td>0.741533</td>\n      <td>0.716578</td>\n      <td>0.696322</td>\n      <td>...</td>\n      <td>0.481283</td>\n      <td>0.608734</td>\n      <td>0.690434</td>\n      <td>0.750446</td>\n      <td>0.825312</td>\n      <td>0.885918</td>\n      <td>0.909091</td>\n      <td>0.929717</td>\n      <td>0.943808</td>\n      <td>0.957898</td>\n    </tr>\n    <tr>\n      <th>1</th>\n      <td>10</td>\n      <td>1.000000</td>\n      <td>0.986591</td>\n      <td>0.973181</td>\n      <td>0.949053</td>\n      <td>0.896752</td>\n      <td>0.828623</td>\n      <td>0.343992</td>\n      <td>0.193551</td>\n      <td>0.067680</td>\n      <td>...</td>\n      <td>0.700465</td>\n      <td>0.713627</td>\n      <td>0.738199</td>\n      <td>0.757493</td>\n      <td>0.770185</td>\n      <td>0.782877</td>\n      <td>0.802715</td>\n      <td>0.823768</td>\n      <td>0.835230</td>\n      <td>0.846693</td>\n    </tr>\n    <tr>\n      <th>2</th>\n      <td>2</td>\n      <td>1.000000</td>\n      <td>0.983829</td>\n      <td>0.974505</td>\n      <td>0.968469</td>\n      <td>0.962432</td>\n      <td>0.956396</td>\n      <td>0.944745</td>\n      <td>0.931987</td>\n      <td>0.918407</td>\n      <td>...</td>\n      <td>0.648074</td>\n      <td>0.754534</td>\n      <td>0.824871</td>\n      <td>0.865617</td>\n      <td>0.884543</td>\n      <td>0.904411</td>\n      <td>0.919420</td>\n      <td>0.931822</td>\n      <td>0.944223</td>\n      <td>0.959161</td>\n    </tr>\n    <tr>\n      <th>3</th>\n      <td>3</td>\n      <td>1.000000</td>\n      <td>0.988627</td>\n      <td>0.984806</td>\n      <td>0.980984</td>\n      <td>0.973403</td>\n      <td>0.964620</td>\n      <td>0.958831</td>\n      <td>0.954659</td>\n      <td>0.950488</td>\n      <td>...</td>\n      <td>0.124730</td>\n      <td>0.365750</td>\n      <td>0.605980</td>\n      <td>0.704853</td>\n      <td>0.819626</td>\n      <td>0.866852</td>\n      <td>0.883875</td>\n      <td>0.919682</td>\n      <td>0.939372</td>\n      <td>0.957330</td>\n    </tr>\n    <tr>\n      <th>4</th>\n      <td>4</td>\n      <td>1.000000</td>\n      <td>0.981869</td>\n      <td>0.949081</td>\n      <td>0.937895</td>\n      <td>0.926949</td>\n      <td>0.895561</td>\n      <td>0.858628</td>\n      <td>0.797989</td>\n      <td>0.726010</td>\n      <td>...</td>\n      <td>0.634088</td>\n      <td>0.703019</td>\n      <td>0.762843</td>\n      <td>0.815214</td>\n      <td>0.858639</td>\n      <td>0.894795</td>\n      <td>0.926071</td>\n      <td>0.937600</td>\n      <td>0.950035</td>\n      <td>0.981285</td>\n    </tr>\n    <tr>\n      <th>5</th>\n      <td>5</td>\n      <td>1.000000</td>\n      <td>0.989366</td>\n      <td>0.978732</td>\n      <td>0.958952</td>\n      <td>0.930129</td>\n      <td>0.895149</td>\n      <td>0.860953</td>\n      <td>0.817305</td>\n      <td>0.770703</td>\n      <td>...</td>\n      <td>0.718077</td>\n      <td>0.761316</td>\n      <td>0.803265</td>\n      <td>0.842663</td>\n      <td>0.886967</td>\n      <td>0.922969</td>\n      <td>0.936642</td>\n      <td>0.948475</td>\n      <td>0.956317</td>\n      <td>0.964159</td>\n    </tr>\n    <tr>\n      <th>6</th>\n      <td>6</td>\n      <td>0.917694</td>\n      <td>0.903668</td>\n      <td>0.889643</td>\n      <td>0.863485</td>\n      <td>0.847392</td>\n      <td>0.830410</td>\n      <td>0.802041</td>\n      <td>0.782300</td>\n      <td>0.748356</td>\n      <td>...</td>\n      <td>0.805010</td>\n      <td>0.840490</td>\n      <td>0.861352</td>\n      <td>0.891731</td>\n      <td>0.907941</td>\n      <td>0.926699</td>\n      <td>0.946738</td>\n      <td>0.957400</td>\n      <td>0.968061</td>\n      <td>0.982324</td>\n    </tr>\n    <tr>\n      <th>7</th>\n      <td>7</td>\n      <td>0.784512</td>\n      <td>0.730112</td>\n      <td>0.396289</td>\n      <td>0.236306</td>\n      <td>0.181170</td>\n      <td>0.138761</td>\n      <td>0.095124</td>\n      <td>0.079482</td>\n      <td>0.063837</td>\n      <td>...</td>\n      <td>0.156136</td>\n      <td>0.222066</td>\n      <td>0.331914</td>\n      <td>0.473891</td>\n      <td>0.607013</td>\n      <td>0.690655</td>\n      <td>0.849231</td>\n      <td>0.897076</td>\n      <td>0.962082</td>\n      <td>0.992764</td>\n    </tr>\n    <tr>\n      <th>8</th>\n      <td>8</td>\n      <td>0.947464</td>\n      <td>0.920373</td>\n      <td>0.903961</td>\n      <td>0.868142</td>\n      <td>0.805510</td>\n      <td>0.420559</td>\n      <td>0.262986</td>\n      <td>0.181635</td>\n      <td>0.136478</td>\n      <td>...</td>\n      <td>0.684683</td>\n      <td>0.731991</td>\n      <td>0.779298</td>\n      <td>0.823719</td>\n      <td>0.860862</td>\n      <td>0.891594</td>\n      <td>0.926636</td>\n      <td>0.946736</td>\n      <td>0.974976</td>\n      <td>0.987488</td>\n    </tr>\n    <tr>\n      <th>9</th>\n      <td>9</td>\n      <td>0.910676</td>\n      <td>0.892482</td>\n      <td>0.864424</td>\n      <td>0.347831</td>\n      <td>0.175215</td>\n      <td>0.117641</td>\n      <td>0.082172</td>\n      <td>0.047697</td>\n      <td>0.029123</td>\n      <td>...</td>\n      <td>0.851329</td>\n      <td>0.866256</td>\n      <td>0.880904</td>\n      <td>0.907570</td>\n      <td>0.922216</td>\n      <td>0.935196</td>\n      <td>0.952190</td>\n      <td>0.970975</td>\n      <td>0.980650</td>\n      <td>0.990325</td>\n    </tr>\n  </tbody>\n</table>\n<p>10 rows × 56 columns</p>\n</div>"
     },
     "metadata": {},
     "output_type": "execute_result",
     "execution_count": 5
    }
   ],
   "source": [
    "# Подготовка данных типовых кривых для обучения модели  \n",
    "\n",
    "typ_cur = pd.DataFrame()\n",
    "files = os.listdir(path =\"typical/reb\")\n",
    "for i_file in files :\n",
    "    X = i_file.split('.')[0]\n",
    "    curve = pd.read_csv('reb/'+i_file,index_col=0)\n",
    "    curve = curve.rename(columns={'X': X})\n",
    "    typ_cur = pd.concat([typ_cur,curve[[X]]],axis=1)\n",
    "typ_cur = typ_cur.T\n",
    "typ_cur = typ_cur.reset_index()\n",
    "typ_cur = typ_cur.rename(columns={'index': 'Y'})\n",
    "typ_cur = typ_cur.sort_values(by='Y')"
   ],
   "metadata": {
    "collapsed": false,
    "pycharm": {
     "name": "#%%\n",
     "is_executing": false
    }
   }
  },
  {
   "cell_type": "code",
   "execution_count": 6,
   "outputs": [],
   "source": [
    "\n",
    "\n",
    "X_train = typ_cur.drop(columns=['Y'])\n",
    "Y_train = typ_cur[['Y']]\n",
    "\n",
    "\n"
   ],
   "metadata": {
    "collapsed": false,
    "pycharm": {
     "name": "#%%\n",
     "is_executing": false
    }
   }
  },
  {
   "cell_type": "code",
   "execution_count": 7,
   "outputs": [],
   "source": [
    "# Задаём собственную метрику\n",
    "\n",
    "def DTW(a, b):   \n",
    "    an = a.size\n",
    "    bn = b.size\n",
    "    pointwise_distance = distance.cdist(a.reshape(-1,1),b.reshape(-1,1))\n",
    "    cumdist = np.matrix(np.ones((an+1,bn+1)) * np.inf)\n",
    "    cumdist[0,0] = 0\n",
    "\n",
    "    for ai in range(an):\n",
    "        for bi in range(bn):\n",
    "            minimum_cost = np.min([cumdist[ai, bi+1],\n",
    "                                   cumdist[ai+1, bi],\n",
    "                                   cumdist[ai, bi]])\n",
    "            cumdist[ai+1, bi+1] = pointwise_distance[ai,bi] + minimum_cost\n",
    "\n",
    "    return cumdist[an, bn]\n",
    "\n",
    "\n",
    "\n"
   ],
   "metadata": {
    "collapsed": false,
    "pycharm": {
     "name": "#%%\n",
     "is_executing": false
    }
   }
  },
  {
   "cell_type": "code",
   "execution_count": 8,
   "outputs": [
    {
     "name": "stderr",
     "text": [
      "C:\\ProgramData\\Anaconda3\\envs\\untitled6\\lib\\site-packages\\sklearn\\neighbors\\_classification.py:409: DataConversionWarning: A column-vector y was passed when a 1d array was expected. Please change the shape of y to (n_samples, ), for example using ravel().\n",
      "  SupervisedIntegerMixin.fit(self, X, y)\n"
     ],
     "output_type": "stream"
    },
    {
     "data": {
      "text/plain": "RadiusNeighborsClassifier(metric=<function DTW at 0x00000205DF23EAF8>,\n                          radius=5.5, weights='distance')"
     },
     "metadata": {},
     "output_type": "execute_result",
     "execution_count": 8
    }
   ],
   "source": [
    "# Обучение модели ближайших соседей. Вбран вариант с заданым радиусом, \n",
    "# для отсеивания каротажей не принадлежащих ни к одному классу.\n",
    "# Радиус подобран эксперементальным путем на основе данных ПС каротажа целевого пласта.\n",
    "\n",
    "rnc = RadiusNeighborsClassifier(n_neighbors=10, metric=DTW, weights='distance', radius=6.3)\n",
    "rnc.fit(X_train,Y_train)"
   ],
   "metadata": {
    "collapsed": false,
    "pycharm": {
     "name": "#%%\n",
     "is_executing": false
    }
   }
  },
  {
   "cell_type": "code",
   "execution_count": null,
   "outputs": [],
   "source": [
    "# Проверка работоспособности модели для подбора радиуса (К данным ПС каротажа целевого пласта добавлены \n",
    "# кривые не относящиеся ни к одному из 10 классов. Предполагается, что радиус подобран верно, если все эти кривые, \n",
    "# и только они, окажутся в списке error_files)\n",
    "\n",
    "files=os.listdir(path='HW/OutData2')\n",
    "error_files=[]\n",
    "for i in files:\n",
    "    try:\n",
    "        cor = pd.read_csv('OutData2/'+ i)\n",
    "        test = cor[['X']].head(55)\n",
    "        test = test.T\n",
    "        print(rnc.predict_proba(test))\n",
    "        print(rnc.predict(test))\n",
    "    except Exception:\n",
    "        error_files.append(i)\n",
    "        \n",
    "error_files\n"
   ],
   "metadata": {
    "collapsed": false,
    "pycharm": {
     "name": "#%%\n"
    }
   }
  },
  {
   "cell_type": "code",
   "execution_count": 12,
   "outputs": [
    {
     "name": "stderr",
     "text": [
      "Header section Parameter regexp=~P was not found.\n"
     ],
     "output_type": "stream"
    },
    {
     "traceback": [
      "\u001b[1;31m---------------------------------------------------------------------------\u001b[0m",
      "\u001b[1;31mValueError\u001b[0m                                Traceback (most recent call last)",
      "\u001b[1;32m<ipython-input-12-b653729de6b5>\u001b[0m in \u001b[0;36m<module>\u001b[1;34m\u001b[0m\n\u001b[0;32m     23\u001b[0m \u001b[1;33m\u001b[0m\u001b[0m\n\u001b[0;32m     24\u001b[0m \u001b[0mSP\u001b[0m \u001b[1;33m=\u001b[0m \u001b[0mpd\u001b[0m\u001b[1;33m.\u001b[0m\u001b[0mread_csv\u001b[0m\u001b[1;33m(\u001b[0m\u001b[1;34m'C://Users/SMA_9/Desktop/HW/OutData/'\u001b[0m\u001b[1;33m+\u001b[0m\u001b[0mi_file\u001b[0m\u001b[1;33m+\u001b[0m\u001b[1;34m'.csv'\u001b[0m\u001b[1;33m,\u001b[0m\u001b[0mindex_col\u001b[0m\u001b[1;33m=\u001b[0m\u001b[1;36m0\u001b[0m \u001b[1;33m)\u001b[0m\u001b[1;33m\u001b[0m\u001b[1;33m\u001b[0m\u001b[0m\n\u001b[1;32m---> 25\u001b[1;33m \u001b[0mSP1\u001b[0m \u001b[1;33m=\u001b[0m \u001b[0mpd\u001b[0m\u001b[1;33m.\u001b[0m\u001b[0mread_csv\u001b[0m\u001b[1;33m(\u001b[0m\u001b[1;34m'C://Users/SMA_9/Desktop/HW/typical/rebuilt/'\u001b[0m\u001b[1;33m+\u001b[0m\u001b[0mrnc\u001b[0m\u001b[1;33m.\u001b[0m\u001b[0mpredict\u001b[0m\u001b[1;33m(\u001b[0m\u001b[0mtest\u001b[0m\u001b[1;33m)\u001b[0m\u001b[1;33m[\u001b[0m\u001b[1;36m0\u001b[0m\u001b[1;33m]\u001b[0m\u001b[1;33m+\u001b[0m\u001b[1;34m'.csv'\u001b[0m \u001b[1;33m)\u001b[0m\u001b[1;33m\u001b[0m\u001b[1;33m\u001b[0m\u001b[0m\n\u001b[0m\u001b[0;32m     26\u001b[0m \u001b[0mx\u001b[0m \u001b[1;33m=\u001b[0m \u001b[0mSP\u001b[0m\u001b[1;33m.\u001b[0m\u001b[0mX\u001b[0m\u001b[1;33m\u001b[0m\u001b[1;33m\u001b[0m\u001b[0m\n\u001b[0;32m     27\u001b[0m \u001b[0my\u001b[0m \u001b[1;33m=\u001b[0m \u001b[0mSP\u001b[0m\u001b[1;33m.\u001b[0m\u001b[0mY\u001b[0m\u001b[1;33m\u001b[0m\u001b[1;33m\u001b[0m\u001b[0m\n",
      "\u001b[1;32mC:\\ProgramData\\Anaconda3\\envs\\untitled6\\lib\\site-packages\\sklearn\\neighbors\\_classification.py\u001b[0m in \u001b[0;36mpredict\u001b[1;34m(self, X)\u001b[0m\n\u001b[0;32m    469\u001b[0m         \"\"\"\n\u001b[0;32m    470\u001b[0m \u001b[1;33m\u001b[0m\u001b[0m\n\u001b[1;32m--> 471\u001b[1;33m         \u001b[0mprobs\u001b[0m \u001b[1;33m=\u001b[0m \u001b[0mself\u001b[0m\u001b[1;33m.\u001b[0m\u001b[0mpredict_proba\u001b[0m\u001b[1;33m(\u001b[0m\u001b[0mX\u001b[0m\u001b[1;33m)\u001b[0m\u001b[1;33m\u001b[0m\u001b[1;33m\u001b[0m\u001b[0m\n\u001b[0m\u001b[0;32m    472\u001b[0m         \u001b[0mclasses_\u001b[0m \u001b[1;33m=\u001b[0m \u001b[0mself\u001b[0m\u001b[1;33m.\u001b[0m\u001b[0mclasses_\u001b[0m\u001b[1;33m\u001b[0m\u001b[1;33m\u001b[0m\u001b[0m\n\u001b[0;32m    473\u001b[0m \u001b[1;33m\u001b[0m\u001b[0m\n",
      "\u001b[1;32mC:\\ProgramData\\Anaconda3\\envs\\untitled6\\lib\\site-packages\\sklearn\\neighbors\\_classification.py\u001b[0m in \u001b[0;36mpredict_proba\u001b[1;34m(self, X)\u001b[0m\n\u001b[0;32m    533\u001b[0m                              \u001b[1;34m'giving a label for outliers, '\u001b[0m\u001b[1;33m\u001b[0m\u001b[1;33m\u001b[0m\u001b[0m\n\u001b[0;32m    534\u001b[0m                              \u001b[1;34m'or considering removing them from your dataset.'\u001b[0m\u001b[1;33m\u001b[0m\u001b[1;33m\u001b[0m\u001b[0m\n\u001b[1;32m--> 535\u001b[1;33m                              % outliers)\n\u001b[0m\u001b[0;32m    536\u001b[0m \u001b[1;33m\u001b[0m\u001b[0m\n\u001b[0;32m    537\u001b[0m         \u001b[0mweights\u001b[0m \u001b[1;33m=\u001b[0m \u001b[0m_get_weights\u001b[0m\u001b[1;33m(\u001b[0m\u001b[0mneigh_dist\u001b[0m\u001b[1;33m,\u001b[0m \u001b[0mself\u001b[0m\u001b[1;33m.\u001b[0m\u001b[0mweights\u001b[0m\u001b[1;33m)\u001b[0m\u001b[1;33m\u001b[0m\u001b[1;33m\u001b[0m\u001b[0m\n",
      "\u001b[1;31mValueError\u001b[0m: No neighbors found for test samples array([0], dtype=int64), you can try using larger radius, giving a label for outliers, or considering removing them from your dataset."
     ],
     "ename": "ValueError",
     "evalue": "No neighbors found for test samples array([0], dtype=int64), you can try using larger radius, giving a label for outliers, or considering removing them from your dataset.",
     "output_type": "error"
    }
   ],
   "source": [
    "# Визуальная проверка работы модели\n",
    "\n",
    "i_file = '360'\n",
    "cor = lasio.read('path/' + i_file +'.las')\n",
    "SP = pd.DataFrame({'DEPT':cor['DEPT'], 'SP':cor['SP']})\n",
    "SP = SP.fillna(0)  \n",
    "SP = SP.query(\"SP != 0 & SP != 9999 & SP != (-9999)\")\n",
    "if targ_form.loc[i_file.split('.')[0]].nunique()[0] ==2:\n",
    "    top=targ_form.loc[(i_file.split('.')[0],'Top_Georg')][0]\n",
    "    bottom = targ_form.loc[(i_file.split('.')[0],'U1-3_bot')][0]\n",
    "else:\n",
    "    top=targ_form.loc[(i_file.split('.')[0],'Top_Georg')][0]\n",
    "    bottom = top+100\n",
    "SP = SP.query(\"DEPT >= @top  & DEPT <= @bottom \")\n",
    "if SP.size>0:\n",
    "    typic = SP.rename(columns={'DEPT':'Y','SP':'X'})\n",
    "    typic.Y = (typic.Y-typic.Y.min())*55/(typic.Y.max()-typic.Y.min())\n",
    "    typic.X = (typic.X-typic.X.min())*1/(typic.X.max()-typic.X.min())\n",
    "    f = interpolate.interp1d(typic.Y.values, typic.X.values)\n",
    "    xnew = f(np.arange(0,55,1))\n",
    "    test = pd.DataFrame({'0':xnew[::-1]})\n",
    "\n",
    "test = test.T\n",
    "\n",
    "SP = pd.read_csv('OutData2/'+i_file+'.csv',index_col=0 )\n",
    "SP1 = pd.read_csv('typical/reb/'+rnc.predict(test)[0]+'.csv' )\n",
    "x = SP.X\n",
    "y = SP.Y\n",
    "X = SP1.X\n",
    "Y = SP1.Y\n",
    "plt.plot(x, y, '-', X, Y, '-')\n",
    "plt.show()\n",
    "\n",
    "print(rnc.predict_proba(test))\n",
    "print(rnc.predict(test))\n"
   ],
   "metadata": {
    "collapsed": false,
    "pycharm": {
     "name": "#%%\n",
     "is_executing": false
    }
   }
  },
  {
   "cell_type": "code",
   "execution_count": null,
   "outputs": [],
   "source": [
    "# Алгоритм находящий на кривой каротажа участки соответствующие типовым кривым.\n",
    "# Задано ограничение глубины от 1500м., так как нефтегазонасыщенные породы исследуемого региона\n",
    "# залегают глубже данной отметки\n",
    "\n",
    "i_file = '200R'\n",
    "cor = lasio.read('path/' + i_file +'.las')\n",
    "SP = pd.DataFrame({'Y':cor['DEPT'], 'X':cor['SP']})\n",
    "SP = SP.fillna(0)\n",
    "SP = SP.query(\"X != 0 & X != 9999 & X != (-9999) & Y > 1500 \")\n",
    "top  = SP.Y.values[0]-10\n",
    "max_dept  = SP.Y.values[-1]\n",
    "bottom = top+100\n",
    "clf_data = pd.DataFrame({'top':[], 'bottom':[], 'class':[]})\n",
    "while bottom <= max_dept:\n",
    "    try:\n",
    "        top += 10\n",
    "        bottom = top + 100\n",
    "        typic = SP.query(\"Y >= @top & Y <= @bottom \")\n",
    "        typic.Y = (typic.Y-typic.Y.min())*55/(typic.Y.max()-typic.Y.min())\n",
    "        typic.X = (typic.X-typic.X.min())*1/(typic.X.max()-typic.X.min())\n",
    "        f = interpolate.interp1d(typic.Y.values, typic.X.values)\n",
    "        xnew = f(np.arange(0,55,1))\n",
    "        test = pd.DataFrame({'0':xnew[::-1]})\n",
    "        test = test.T\n",
    "        try:\n",
    "            prediction = rnc.predict(test)\n",
    "            clf_data = pd.concat([clf_data,pd.DataFrame({'top':top, 'bottom':bottom, 'class':prediction})])\n",
    "        except Exception:  \n",
    "            pass\n",
    "        \n",
    "    except Exception:\n",
    "        pass\n",
    "        \n",
    "\n",
    "top = max_dept - 100\n",
    "bottom = max_dept\n",
    "typic = SP.query(\"Y >= @top & Y <= @bottom \")\n",
    "typic.Y = (typic.Y-typic.Y.min())*55/(typic.Y.max()-typic.Y.min())\n",
    "typic.X = (typic.X-typic.X.min())*1/(typic.X.max()-typic.X.min())\n",
    "f = interpolate.interp1d(typic.Y.values, typic.X.values)\n",
    "xnew = f(np.arange(0,55,1))\n",
    "test = pd.DataFrame({'0':xnew[::-1]})\n",
    "test = test.T\n",
    "try:\n",
    "    prediction = rnc.predict(test)\n",
    "    clf_data = pd.concat([clf_data,pd.DataFrame({'top':top, 'bottom':bottom, 'class':prediction})])\n",
    "except Exception:  \n",
    "    pass\n",
    "\n"
   ],
   "metadata": {
    "collapsed": false,
    "pycharm": {
     "name": "#%%\n"
    }
   }
  },
  {
   "cell_type": "code",
   "execution_count": null,
   "outputs": [],
   "source": [
    "# Сохраняем полученный результат\n",
    "\n",
    "clf_data = clf_data.reset_index()\n",
    "clf_data = clf_data.drop(columns=['index'])\n",
    "clf_data.to_excel('clf_data.xls')\n"
   ],
   "metadata": {
    "collapsed": false,
    "pycharm": {
     "name": "#%%\n"
    }
   }
  }
 ],
 "metadata": {
  "kernelspec": {
   "display_name": "Python 3",
   "language": "python",
   "name": "python3"
  },
  "language_info": {
   "codemirror_mode": {
    "name": "ipython",
    "version": 2
   },
   "file_extension": ".py",
   "mimetype": "text/x-python",
   "name": "python",
   "nbconvert_exporter": "python",
   "pygments_lexer": "ipython2",
   "version": "2.7.6"
  },
  "pycharm": {
   "stem_cell": {
    "cell_type": "raw",
    "source": [],
    "metadata": {
     "collapsed": false
    }
   }
  }
 },
 "nbformat": 4,
 "nbformat_minor": 0
}